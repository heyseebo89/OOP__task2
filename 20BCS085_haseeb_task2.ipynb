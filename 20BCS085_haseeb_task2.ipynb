{
  "nbformat": 4,
  "nbformat_minor": 0,
  "metadata": {
    "colab": {
      "name": "20BCS085_haseeb_task2.ipynb",
      "provenance": [],
      "authorship_tag": "ABX9TyN7rV5RMdosAinJL0onrTMC",
      "include_colab_link": true
    },
    "kernelspec": {
      "name": "python3",
      "display_name": "Python 3"
    },
    "language_info": {
      "name": "python"
    }
  },
  "cells": [
    {
      "cell_type": "markdown",
      "metadata": {
        "id": "view-in-github",
        "colab_type": "text"
      },
      "source": [
        "<a href=\"https://colab.research.google.com/github/heyseebo89/OOP__task2/blob/main/20BCS085_haseeb_task2.ipynb\" target=\"_parent\"><img src=\"https://colab.research.google.com/assets/colab-badge.svg\" alt=\"Open In Colab\"/></a>"
      ]
    },
    {
      "cell_type": "code",
      "metadata": {
        "colab": {
          "base_uri": "https://localhost:8080/"
        },
        "id": "Of_kRN17zhad",
        "outputId": "d1d21c0b-a5ee-437c-d243-1e0d85a6eff1"
      },
      "source": [
        "import math as mt\n",
        "class circle():\n",
        "    def __init__(self, radius):\n",
        "        self.radius = radius\n",
        "\n",
        "    def area(self):\n",
        "        return (mt.pi)*(self.radius)*(self.radius)\n",
        "    \n",
        "    def perimeter(self):\n",
        "        return 2*(mt.pi)*(self.radius)\n",
        "\n",
        "c1 = circle(5)\n",
        "print(c1.area())\n",
        "print(c1.perimeter())\n",
        "c2 = circle(9)\n",
        "print(c2.area())\n",
        "print(c2.perimeter())"
      ],
      "execution_count": 1,
      "outputs": [
        {
          "output_type": "stream",
          "name": "stdout",
          "text": [
            "78.53981633974483\n",
            "31.41592653589793\n",
            "254.46900494077323\n",
            "56.548667764616276\n"
          ]
        }
      ]
    },
    {
      "cell_type": "code",
      "metadata": {
        "colab": {
          "base_uri": "https://localhost:8080/"
        },
        "id": "jSA2vm9r1WPy",
        "outputId": "34222901-9f31-4cbd-fbf7-3e3c1d4e4ace"
      },
      "source": [
        "class faculty:\n",
        "\n",
        "  def __init__(self, name, emp_ID, branch, salary):\n",
        "    self.name=name\n",
        "    self.emp_ID=emp_ID\n",
        "    self.branch=branch\n",
        "    self.salary=salary\n",
        "\n",
        "fac1 = faculty('faculty1', '20bcs001', 'cse', 100000)\n",
        "fac2 = faculty('faculty2', '20bds002', 'dsai', 80000)\n",
        "fac3 = faculty('faculty3', '20bec003', 'ece', 90000)\n",
        "fac4 = faculty('faculty4', '20bcs004', 'cse', 120000)\n",
        "fac5 = faculty('faculty5', '20bec005', 'ece', 95000)\n",
        "\n",
        "def display():\n",
        "  l1=[fac1, fac2, fac3, fac4, fac5]\n",
        "  for x in l1:\n",
        "    print(\"\\n\")\n",
        "    print(x.__dict__)\n",
        "\n",
        "display()"
      ],
      "execution_count": 2,
      "outputs": [
        {
          "output_type": "stream",
          "name": "stdout",
          "text": [
            "\n",
            "\n",
            "{'name': 'faculty1', 'emp_ID': '20bcs001', 'branch': 'cse', 'salary': 100000}\n",
            "\n",
            "\n",
            "{'name': 'faculty2', 'emp_ID': '20bds002', 'branch': 'dsai', 'salary': 80000}\n",
            "\n",
            "\n",
            "{'name': 'faculty3', 'emp_ID': '20bec003', 'branch': 'ece', 'salary': 90000}\n",
            "\n",
            "\n",
            "{'name': 'faculty4', 'emp_ID': '20bcs004', 'branch': 'cse', 'salary': 120000}\n",
            "\n",
            "\n",
            "{'name': 'faculty5', 'emp_ID': '20bec005', 'branch': 'ece', 'salary': 95000}\n"
          ]
        }
      ]
    },
    {
      "cell_type": "code",
      "metadata": {
        "colab": {
          "base_uri": "https://localhost:8080/"
        },
        "id": "MUDvFdM52cm9",
        "outputId": "d54894e7-86f8-4ed7-bb80-544ce5ad7b48"
      },
      "source": [
        "class account:\n",
        "\n",
        "  def __init__(self, amount=0, account_no=\"XXXXX108906\", account_holder_name=\"Haseeb\"):\n",
        "    self.bank_balance=0\n",
        "    self.account_no=account_no\n",
        "    self.account_holder_name=account_holder_name\n",
        "    self.amount=amount\n",
        "\n",
        "  def deposit(self):\n",
        "    amount=float(input(\"how much you want to deposit?: \"))\n",
        "    self.bank_balance += amount\n",
        "    print(\"\\n amount you have deposited is: \",amount)\n",
        " \n",
        "  def withdraw(self):\n",
        "    amount = float(input(\"how much you have to withdraw?: \"))\n",
        "    if self.bank_balance>=amount:\n",
        "      self.bank_balance-=amount\n",
        "      print(\"\\n the amount you have withdrawn is: \", amount)\n",
        "    else:\n",
        "      print(\"\\n low bank balance\")\n",
        " \n",
        "  def check_balance(self):\n",
        "    print(\"\\n your account balance is: \",self.bank_balance) \n",
        "\n",
        "  def account_details(self):\n",
        "    print(\"\\n\\nyour account number is: \", self.account_no)\n",
        "    print(\"your account holder name is: \", self.account_holder_name)\n",
        "    print(\"your account balance is: \", self.bank_balance)\n",
        "\n",
        "acc1 = account()    \n",
        "acc1.deposit()\n",
        "acc1.withdraw()\n",
        "acc1.check_balance()\n",
        "acc1.account_details()"
      ],
      "execution_count": 4,
      "outputs": [
        {
          "output_type": "stream",
          "name": "stdout",
          "text": [
            "how much you want to deposit?: 2000\n",
            "\n",
            " amount you have deposited is:  2000.0\n",
            "how much you have to withdraw?: 1500\n",
            "\n",
            " the amount you have withdrawn is:  1500.0\n",
            "\n",
            " your account balance is:  500.0\n",
            "\n",
            "\n",
            "your account number is:  XXXXX108906\n",
            "your account holder name is:  Haseeb\n",
            "your account balance is:  500.0\n"
          ]
        }
      ]
    },
    {
      "cell_type": "code",
      "metadata": {
        "colab": {
          "base_uri": "https://localhost:8080/"
        },
        "id": "PfrtOfvt3HA8",
        "outputId": "b816ca21-f62d-45a9-80cb-12e7d0388c8b"
      },
      "source": [
        "class students:\n",
        "    \n",
        "    def __init__(self, name):\n",
        "        self.name = name\n",
        "        self.marks = []\n",
        "        \n",
        "    def Marks(self):\n",
        "        for i in range(3):\n",
        "            m = int(input(\"Enter the marks of %s in %d subject: \"%(self.name, i+1)))\n",
        "            self.marks.append(m)\n",
        "            \n",
        "    def display_marks(self):\n",
        "      usn = (input(\"please enter your USN: \"))\n",
        "      print (self.name, \"got \", self.marks)\n",
        "      print(\"%s's USN is %s\"%(self.name,usn))\n",
        "             \n",
        "name = input(\"Enter the name of Student:\")\n",
        "s1 = students(name)\n",
        "s1.Marks()\n",
        "s1.display_marks()\n",
        "print (\"\\n\")\n",
        "name = input(\"Enter the name of Student:\")\n",
        "s2 = students(name)\n",
        "s2.Marks()\n",
        "s2.display_marks()"
      ],
      "execution_count": null,
      "outputs": [
        {
          "output_type": "stream",
          "name": "stdout",
          "text": [
            "Enter the name of Student:Haseeb\n",
            "Enter the marks of Haseeb in 1 subject: 89\n",
            "Enter the marks of Haseeb in 2 subject: 90\n",
            "Enter the marks of Haseeb in 3 subject: 99\n",
            "please enter your USN: 85\n",
            "Haseeb got  [89, 90, 99]\n",
            "Haseeb's USN is 85\n",
            "\n",
            "\n"
          ]
        }
      ]
    },
    {
      "cell_type": "markdown",
      "metadata": {
        "id": "OQCeZ6vG4MlO"
      },
      "source": [
        ""
      ]
    },
    {
      "cell_type": "code",
      "metadata": {
        "id": "fCzuvdnl4PgN"
      },
      "source": [
        "class patients:\n",
        "\n",
        "  def __init__(self):\n",
        "    self.name = input(\"enter patient's name: \")\n",
        "    self.date_admit = input(\"enter date of admit as dd/mm/yyyy: \")\n",
        "    no_of_symptoms = int(input(\"enter the number of symptoms: \"))\n",
        "    self.symptoms = []\n",
        "    for i in range(0, no_of_symptoms):\n",
        "      sym = input(\"enter the symptom: \")\n",
        "      self.symptoms.append(sym)\n",
        "    self.oxygen_level = int(input(\"enter the oxygen level in percentage: \"))\n",
        "    self.date_discharge = input(\"enter the date of discharge as dd/mm/yyyy: \")\n",
        "    \n",
        "\n",
        "  def pat_info(self):\n",
        "    print(\"\\n\\n\")\n",
        "    print(\"patient name is: \",self.name)\n",
        "    print(\"patient's date of admit is: \",self.date_admit)\n",
        "    print(\"patient's symptoms are: \",self.symptoms)\n",
        "    print(\"patient's oxygen level is: \",self.oxygen_level)\n",
        "    print(\"patient's date of discharge is: \",self.date_discharge)\n",
        "\n",
        "  def severity(self):\n",
        "    if self.oxygen_level < 90:\n",
        "      print(\"the person is in severe condition\")\n",
        "    else:\n",
        "      print(\"the person is not severe\")    \n",
        "\n",
        "c1=patients()\n",
        "c1.pat_info()\n",
        "c1.severity()\n",
        "\n",
        "c2=patients()\n",
        "c2.pat_info()\n",
        "c2.severity()"
      ],
      "execution_count": null,
      "outputs": []
    },
    {
      "cell_type": "code",
      "metadata": {
        "id": "t9V4y--Z4q1C"
      },
      "source": [
        "class time:\n",
        "  def __init__(self):\n",
        "    self.hours=0\n",
        "    self.minutes=0\n",
        "    self.seconds=0\n",
        "  \n",
        "  def values(self):\n",
        "    self.hours=6\n",
        "    self.minutes=30\n",
        "    self.seconds=49\n",
        "\n",
        "  def display(self):\n",
        "    print(self.hours,\":\",self.minutes,\":\",self.seconds)\n",
        "\n",
        "t=time()\n",
        "t.display()\n",
        "t.values()\n",
        "t.display()"
      ],
      "execution_count": null,
      "outputs": []
    },
    {
      "cell_type": "code",
      "metadata": {
        "id": "vXshdtGP5Vrp"
      },
      "source": [
        "class studentdetails():\n",
        "    sem=3\n",
        "    institute=\"iiitdwd\"\n",
        "    def __init__(self,name,usn):\n",
        "        self.name=name\n",
        "        self.usn=usn\n",
        "\n",
        "    @classmethod\n",
        "    def displaydetails(cls):\n",
        "        return cls.sem,cls.institute\n",
        "\n",
        "    @staticmethod\n",
        "    def show():\n",
        "        return \"This is a class of student details,printed using static method\"\n",
        "    def display(self):\n",
        "        return self.name,self.usn\n",
        "\n",
        "a=input(\"Enter name:\")\n",
        "b=int(input(\"Enter USN:\"))\n",
        "student=studentdetails(a,b)\n",
        "print(student.displaydetails())\n",
        "print(student.display())\n",
        "print(student.show())"
      ],
      "execution_count": null,
      "outputs": []
    },
    {
      "cell_type": "code",
      "metadata": {
        "id": "CjKYOODh5Yux"
      },
      "source": [
        "class student():\n",
        "    def __init__(self,name,rollno,sem):\n",
        "        self.name=name\n",
        "        self.rollno=rollno\n",
        "        self.sem=sem\n",
        "    def display(self):\n",
        "        return self.name,self.rollno,self.sem\n",
        "    class laptop():\n",
        "        def __init__(self,cpu,ram,harddisk,displaydetails,os,manufacturer):\n",
        "            self.cpu=cpu\n",
        "            self.ram=ram\n",
        "            self.harddisk=harddisk\n",
        "            self.displaydetails=displaydetails\n",
        "            self.os=os\n",
        "            self.manufacturer=manufacturer\n",
        "        def show(self):\n",
        "            return self.cpu,self.ram,self.harddisk,self.displaydetails,self.os,self.manufacturer\n",
        "a=input(\"Enter name:\")\n",
        "b=int(input(\"Enter roll number:\"))\n",
        "c=int(input(\"Enter sem:\"))\n",
        "studentdetails=student(a,b,c)\n",
        "a=input(\"Enter processor name:\")\n",
        "b=int(input(\"Enter RAM space:\"))\n",
        "c=int(input(\"Enter storage space:\"))\n",
        "d=int(input(\"Enter display size:\"))\n",
        "g=input(\"Enter OS details:\")\n",
        "i=input(\"Enter manufacturer:\")\n",
        "laptopdetails=studentdetails.laptop(a,b,c,d,g,i)\n",
        "print(studentdetails.display())\n",
        "print(laptopdetails.show())"
      ],
      "execution_count": null,
      "outputs": []
    },
    {
      "cell_type": "code",
      "metadata": {
        "id": "r93bnfqh4ydV"
      },
      "source": [
        "class studentdetails():\n",
        "    def __init__(self,name,age,rollno):\n",
        "        self.name=name\n",
        "        self.age=age\n",
        "        self.rollno=rollno\n",
        "    def compare(self):\n",
        "        if(student1.age==student2.age):\n",
        "            print(\"They are of the same age\")\n",
        "        else:\n",
        "            print(\"They are not the same age\")\n",
        "\n",
        "\n",
        "student1=studentdetails(\"haseeb\",21,33)\n",
        "student2=studentdetails(\"safa\",22,74)\n",
        "student1.compare()"
      ],
      "execution_count": null,
      "outputs": []
    }
  ]
}